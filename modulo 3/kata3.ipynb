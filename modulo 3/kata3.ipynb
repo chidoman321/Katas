{
 "cells": [
  {
   "cell_type": "markdown",
   "metadata": {},
   "source": [
    "# problema 1 & problema 2\n",
    "\n",
    "\n"
   ]
  },
  {
   "cell_type": "code",
   "execution_count": 5,
   "metadata": {},
   "outputs": [
    {
     "name": "stdout",
     "output_type": "stream",
     "text": [
      "advertencia  un asteroide se acerca a la Tierra demasiado rápido.\n"
     ]
    }
   ],
   "source": [
    "velocidad_asteroide_kms = 49\n",
    "velocidad_asteroide_kms = float(input(\"a que velocidad viene el asteroide\") or velocidad_asteroide_kms )\n",
    "velocidad_umbral_kms = 25\n",
    "velocidad_umbral_rayo =20\n",
    "asteroide_atmosfera =False\n",
    "asteroide_atmosfera = bool(input(\"a que velocidad viene el asteroide\") or asteroide_atmosfera )\n",
    "\n",
    "mensaje_asteroide_rapido ='advertencia  un asteroide se acerca a la Tierra demasiado rápido.'\n",
    "mensaje_rayo_luz = 'Atencion habitantes de la tierra el asteroide a veces produce un rayo de luz que se puede ver desde la Tierra.'\n",
    "mensaje_asteroide =f'¡Hay un asteroide que se dirige a la tierra ahora a una velocidad de 19 km/s! {velocidad_asteroide_kms} km/s'\n",
    "\n",
    "# el asteroide viene muy rapido\n",
    "if velocidad_asteroide_kms > velocidad_umbral_kms:\n",
    "\t# el asteroide esta en la atmosfera\n",
    "\tif asteroide_atmosfera:\n",
    "\t\tprint(mensaje_asteroide_rapido)\n",
    "\t\tprint(mensaje_rayo_luz)\n",
    "\telse:\n",
    "\t\tprint(mensaje_asteroide_rapido)\n",
    "# el asteroide esta en la atmosfera y podria observarse el rayo de luz\n",
    "elif velocidad_asteroide_kms >= velocidad_umbral_rayo and asteroide_atmosfera:\n",
    "\tprint(mensaje_rayo_luz)\n",
    "# viene un asteroide\n",
    "else:\n",
    "\tprint(mensaje_asteroide)\n",
    "\n"
   ]
  },
  {
   "cell_type": "markdown",
   "metadata": {},
   "source": [
    "# problema 3"
   ]
  },
  {
   "cell_type": "code",
   "execution_count": null,
   "metadata": {},
   "outputs": [],
   "source": [
    "velocidad_asteroide_kms = 49\n",
    "velocidad_asteroide_kms = float(input(\"a que velocidad viene el asteroide\") or velocidad_asteroide_kms )\n",
    "tamaño_asteroide = 40\n",
    "tamaño_asteroide = float(input(\"de que tamaño es el asteroide\") or tamaño_asteroide )\n",
    "velocidad_umbral_kms = 25\n",
    "tamaño_asteroide_umbral_low = velocidad_asteroide_kms\n",
    "velocidad_umbral_rayo =20\n",
    "asteroide_atmosfera =False\n",
    "asteroide_atmosfera = bool(input(\"a que velocidad viene el asteroide\") or asteroide_atmosfera )\n",
    "\n",
    "mensaje_asteroide_rapido ='advertencia  un asteroide se acerca a la Tierra demasiado rápido.'\n",
    "mensaje_rayo_luz = 'Atencion habitantes de la tierra el asteroide a veces produce un rayo de luz que se puede ver desde la Tierra.'\n",
    "mensaje_asteroide =f'¡Hay un asteroide que se dirige a la tierra ahora a una velocidad de 19 km/s! {velocidad_asteroide_kms} km/s'\n",
    "\n",
    "mensaje_tamaño_asteroide = f'el tamaño del asteroide es {tamaño_asteroide} metros'\n",
    "mensaje_asteroide_daño = mensaje_tamaño_asteroide + f'y si golpea la Tierra, causaría mucho daño.'\n",
    "\n",
    "# el asteroide viene muy rapido\n",
    "if velocidad_asteroide_kms > velocidad_umbral_kms:\n",
    "\t# el asteroide esta en la atmosfera\n",
    "\tif asteroide_atmosfera:\n",
    "\t\tprint(mensaje_asteroide_rapido)\n",
    "\t\tprint(mensaje_rayo_luz)\n",
    "\telse:\n",
    "\t\tprint(mensaje_asteroide_rapido)\n",
    "# el asteroide esta en la atmosfera y podria observarse el rayo de luz\n",
    "elif velocidad_asteroide_kms >= velocidad_umbral_rayo and asteroide_atmosfera:\n",
    "\tprint(mensaje_rayo_luz)\n",
    "# viene un asteroide\n",
    "else:\n",
    "\tprint(mensaje_asteroide)\n",
    "\n",
    "if tamaño_asteroide > tamaño_asteroide_umbral_low:\n",
    "\tprint(mensaje_asteroide_daño)\n",
    "\n",
    "\n"
   ]
  }
 ],
 "metadata": {
  "interpreter": {
   "hash": "c04754951ec0f0944b055b17fe79fc023504a867b6202eeee91e413f7480d143"
  },
  "kernelspec": {
   "display_name": "Python 3.10.2 64-bit (windows store)",
   "language": "python",
   "name": "python3"
  },
  "language_info": {
   "codemirror_mode": {
    "name": "ipython",
    "version": 3
   },
   "file_extension": ".py",
   "mimetype": "text/x-python",
   "name": "python",
   "nbconvert_exporter": "python",
   "pygments_lexer": "ipython3",
   "version": "3.10.2"
  },
  "orig_nbformat": 4
 },
 "nbformat": 4,
 "nbformat_minor": 2
}
