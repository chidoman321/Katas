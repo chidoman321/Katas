{
 "cells": [
  {
   "cell_type": "markdown",
   "metadata": {},
   "source": [
    "# Logica booleana"
   ]
  },
  {
   "cell_type": "markdown",
   "metadata": {},
   "source": [
    "en la vida ocupamos tomar decisiones , nosotros podemos programar condiciones que hagan algo o omita algo \n",
    "\n",
    "para que una condicion se cumpla necesitamos que sea verdadera  que equivale a True o verdadero\n",
    "\n",
    "si no se cunple podemos decir que la expresion de la condicion es False o falsa\n",
    "\n",
    "en pyhton tenemos la palabra reservada if que nos ayuda a hacer esto ,seguido de la condicion a evaluar y dos puntos que indica que empieza el bloque verdadero\n",
    "\n",
    "Escribe si te gustan los tacos o no , solo tienes dos respuestas True o False es case sensitive\n",
    "\n"
   ]
  },
  {
   "cell_type": "code",
   "execution_count": 1,
   "metadata": {},
   "outputs": [
    {
     "name": "stdout",
     "output_type": "stream",
     "text": [
      "A mi tambien me gustan we, te invito unos o que\n"
     ]
    }
   ],
   "source": [
    "te_gustan_los_tacos = 'si'== input(\"Te gustan los tacos? \")\n",
    "\n",
    "if te_gustan_los_tacos:\n",
    "    print(\"A mi tambien me gustan we, te invito unos o que\")\n",
    "else:\n",
    "    print(\"mmmm esta raro tu asunto si quieres te acompaño al doctor we \")"
   ]
  },
  {
   "cell_type": "markdown",
   "metadata": {},
   "source": [
    "aqui puedes observar que si  te gustan los tacos es verdadero , vamos a imprimir que le invito a alguien \n",
    "\n",
    "si es False o falso pues se ejecuta el else que en si es en caso contrario del if \n",
    "\n",
    "no es necesario poner el else solo cuando ocupes un caso contrario el if puede ir solo"
   ]
  },
  {
   "cell_type": "markdown",
   "metadata": {},
   "source": [
    "# elif"
   ]
  },
  {
   "cell_type": "markdown",
   "metadata": {},
   "source": [
    "digamos que el if no se ejecuta pero el caso contario debe llevar una condicion para poder ejecutarse podrias optar por la siguiente solucion"
   ]
  },
  {
   "cell_type": "code",
   "execution_count": 7,
   "metadata": {},
   "outputs": [
    {
     "name": "stdout",
     "output_type": "stream",
     "text": [
      "mmmm esta raro tu asunto si quieres te acompaño al doctor we \n"
     ]
    }
   ],
   "source": [
    "te_gustan_los_tacos = 'si'== input(\"Te gustan los tacos? \")\n",
    "es_mi_amigo = True\n",
    "if te_gustan_los_tacos:\n",
    "    print(\"A mi tambien me gustan we, te invito unos o que\")\n",
    "else:\n",
    "\tif es_mi_amigo:\n",
    "    \t\tprint(\"mmmm esta raro tu asunto si quieres te acompaño al doctor we \")"
   ]
  },
  {
   "cell_type": "markdown",
   "metadata": {},
   "source": [
    "no queremos ser descortez si no es mi amigo le mostramos ese mensaje"
   ]
  },
  {
   "cell_type": "markdown",
   "metadata": {},
   "source": [
    "bueno el elif te ahorra el tener que escribir un if dentro del else , puedes hacerlo de la siguiente manera y deberia seguir funcionando "
   ]
  },
  {
   "cell_type": "code",
   "execution_count": null,
   "metadata": {},
   "outputs": [],
   "source": [
    "te_gustan_los_tacos = 'si'== input(\"Te gustan los tacos? \")\n",
    "es_mi_amigo = True\n",
    "if te_gustan_los_tacos:\n",
    "    print(\"A mi tambien me gustan we, te invito unos o que\")\n",
    "elif es_mi_amigo:\n",
    "    \tprint(\"mmmm esta raro tu asunto si quieres te acompaño al doctor we \")"
   ]
  },
  {
   "cell_type": "markdown",
   "metadata": {},
   "source": [
    "perfecto y podemos usar tantos elif como quisieramos estos actuarian como el caso contrario del if elif precedente , tambien puedes agregar un else al final que actuaria como el caso default en caso de que ningun elif se ejecute"
   ]
  },
  {
   "cell_type": "code",
   "execution_count": 9,
   "metadata": {},
   "outputs": [
    {
     "name": "stdout",
     "output_type": "stream",
     "text": [
      "Chale\n"
     ]
    }
   ],
   "source": [
    "te_gustan_los_tacos = 'si'== input(\"Te gustan los tacos? \")\n",
    "es_mi_amigo = False\n",
    "if te_gustan_los_tacos:\n",
    "    print(\"A mi tambien me gustan we, te invito unos o que\")\n",
    "elif es_mi_amigo:\n",
    "    \tprint(\"mmmm esta raro tu asunto si quieres te acompaño al doctor we \")\n",
    "else:\n",
    "\tprint(\"Chale\")"
   ]
  },
  {
   "cell_type": "markdown",
   "metadata": {},
   "source": [
    "# Operadores logicos"
   ]
  },
  {
   "cell_type": "markdown",
   "metadata": {},
   "source": [
    "Solo conozco 3 en python and , or y not\n",
    "\n",
    "el and es solo si las 2 expresiones son verdaderas regreso  true\n",
    "\n",
    "el or te regresa verdadero en todos los casos excepto si ambas expresiones son falsas\n",
    "\n",
    "el not te regresa el valor contrario , si tienes false este se convierte en true y si tienes false te regresa true\n",
    "\n",
    "hay otros operadores que creo que no tienen una palabra reservada y son derivados de permutaciones entre esos basicos\n",
    "\n",
    "un ejemplo es el xor , este te regresa true excepto si ambas expresiones son iguales , la verdad casi no lo uso como tal ,me imagino que talvez necesite de el al anidar y permutar estos basicos , entonces tienes dos formas de obtener el xor\n",
    "\n",
    "- ! expresion1 == expresion2 es la primera forma que se me ocurrio de representarlo y la mas sencilla\n",
    "\n",
    "- (expresion1 || expresion2) && !(expresion1 && expresion2) si solo queremos usar operadores logicos podemos optar por esta version ,me imagino que a de ver mejores formas de expresarlo yo solo muestro esta que se me ocurrio\n",
    "\n",
    "tambien tenemos el nand que es un and negado te regresa true en todos los casos excepto si ambas expresiones son true\n",
    "\n",
    "hay muchos la verdad yo solo se que hay mas estos fueron los que me encontre en internet AND, OR, XOR, NOT, NAND, NOR, and XNOR.\n",
    "\n"
   ]
  }
 ],
 "metadata": {
  "interpreter": {
   "hash": "c04754951ec0f0944b055b17fe79fc023504a867b6202eeee91e413f7480d143"
  },
  "kernelspec": {
   "display_name": "Python 3.10.2 64-bit (windows store)",
   "language": "python",
   "name": "python3"
  },
  "language_info": {
   "codemirror_mode": {
    "name": "ipython",
    "version": 3
   },
   "file_extension": ".py",
   "mimetype": "text/x-python",
   "name": "python",
   "nbconvert_exporter": "python",
   "pygments_lexer": "ipython3",
   "version": "3.10.2"
  },
  "orig_nbformat": 4
 },
 "nbformat": 4,
 "nbformat_minor": 2
}
