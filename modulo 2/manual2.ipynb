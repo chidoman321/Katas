{
 "cells": [
  {
   "cell_type": "markdown",
   "metadata": {},
   "source": [
    "# Administrar un proyecto de py"
   ]
  },
  {
   "cell_type": "markdown",
   "metadata": {},
   "source": [
    "para organizar tu proyecto ocupas  tener versiones definidas de los paquetes que usaras, para evitar usar los paquetes globales  y saber con que versiones de cada paquete  funciona correctamente el proyecto ,vamos a hacer un entorno virtual lo que equivale a  una carpeta con todos los paquetes que vas a usar y un archivo requirements.txt el cual contendra la lista de paquetes y su version esto nos sera muy util cuando intetemos ejecutar el proyecto en otra parte"
   ]
  },
  {
   "cell_type": "markdown",
   "metadata": {},
   "source": [
    "creamos nuestro entorno virtual llamando al modulo venv"
   ]
  },
  {
   "cell_type": "code",
   "execution_count": null,
   "metadata": {},
   "outputs": [],
   "source": [
    "python3 -m venv env"
   ]
  },
  {
   "cell_type": "markdown",
   "metadata": {},
   "source": [
    "esto nos deberia crear una carpeta llamada env con nuestro entorno virtual ,y es recomendable no poner codigo de nuestro proyecto dentro de esa carpeta normalmente el codigo de nuestro proyecto se guarda en una carpeta llamada src , esta la debes poner dentro del directorio root en el que te encuentras algo asi\n",
    "\n",
    "  /env\n",
    "  /src\n",
    "    program.py  "
   ]
  },
  {
   "cell_type": "markdown",
   "metadata": {},
   "source": [
    "# Activar el entorno virtual"
   ]
  },
  {
   "cell_type": "markdown",
   "metadata": {},
   "source": [
    "okey ya lo creamos nos hace falta activarlo para ello basta con ejectuar el script activate dentro de la carpeta Scripts\n",
    "\n",
    "algo asi en powershell\n",
    "\n",
    ".\\env\\Scripts\\activate\n",
    "\n",
    "\n",
    "debes ser capaz de apreciar que el entorno esta activo si tu terminal muestra al incio (env) o el nombre que le indicaste \n",
    "\n",
    "ahora puedes instalar cualquier paquete con pip  , tambien tenemos el siguiente comando para listar las librerias que tenemos"
   ]
  },
  {
   "cell_type": "code",
   "execution_count": 1,
   "metadata": {},
   "outputs": [
    {
     "name": "stdout",
     "output_type": "stream",
     "text": [
      "asttokens==2.0.5\n",
      "backcall==0.2.0\n",
      "black==22.1.0\n",
      "click==8.0.3\n",
      "colorama==0.4.4\n",
      "cycler==0.11.0\n",
      "debugpy==1.5.1\n",
      "decorator==5.1.1\n",
      "distlib==0.3.4\n",
      "entrypoints==0.4\n",
      "executing==0.8.2\n",
      "filelock==3.4.2\n",
      "fonttools==4.29.1\n",
      "ipykernel==6.8.0\n",
      "ipython==8.0.1\n",
      "jedi==0.18.1\n",
      "jupyter-client==7.1.2\n",
      "jupyter-core==4.9.1\n",
      "kiwisolver==1.3.2\n",
      "matplotlib==3.5.1\n",
      "matplotlib-inline==0.1.3\n",
      "mypy-extensions==0.4.3\n",
      "nest-asyncio==1.5.4\n",
      "numpy==1.22.2\n",
      "packaging==21.3\n",
      "parso==0.8.3\n",
      "pathspec==0.9.0\n",
      "pi==0.1.2\n",
      "pickleshare==0.7.5\n",
      "Pillow==9.0.1\n",
      "platformdirs==2.4.1\n",
      "prompt-toolkit==3.0.26\n",
      "pure-eval==0.2.2\n",
      "Pygments==2.11.2\n",
      "pyparsing==3.0.7\n",
      "python-dateutil==2.8.2\n",
      "pywin32==303\n",
      "pyzmq==22.3.0\n",
      "six==1.16.0\n",
      "stack-data==0.1.4\n",
      "tomli==2.0.0\n",
      "tornado==6.1\n",
      "traitlets==5.1.1\n",
      "virtualenv==20.13.0\n",
      "wcwidth==0.2.5\n",
      "Note: you may need to restart the kernel to use updated packages.\n"
     ]
    }
   ],
   "source": [
    "pip freeze"
   ]
  },
  {
   "cell_type": "markdown",
   "metadata": {},
   "source": [
    "# Desactivar entorno virtual"
   ]
  },
  {
   "cell_type": "markdown",
   "metadata": {},
   "source": [
    "para desactivar el entorno solo tenremos que teclear en nuestra terminal deactivate\n",
    "\n",
    "\n",
    "deactivate\n",
    "\n"
   ]
  },
  {
   "cell_type": "markdown",
   "metadata": {},
   "source": [
    "# Guardar dependencias"
   ]
  },
  {
   "cell_type": "markdown",
   "metadata": {},
   "source": [
    "ocupamos hacer uso del comando pip freeze y una ves ejecutado volcamos la salida en un archivo que generalmente se llamada requirements.txt\n",
    "\n",
    "\n",
    "pip freeze > requirements.txt"
   ]
  }
 ],
 "metadata": {
  "interpreter": {
   "hash": "c04754951ec0f0944b055b17fe79fc023504a867b6202eeee91e413f7480d143"
  },
  "kernelspec": {
   "display_name": "Python 3.10.2 64-bit (windows store)",
   "language": "python",
   "name": "python3"
  },
  "language_info": {
   "codemirror_mode": {
    "name": "ipython",
    "version": 3
   },
   "file_extension": ".py",
   "mimetype": "text/x-python",
   "name": "python",
   "nbconvert_exporter": "python",
   "pygments_lexer": "ipython3",
   "version": "3.10.2"
  },
  "orig_nbformat": 4
 },
 "nbformat": 4,
 "nbformat_minor": 2
}
