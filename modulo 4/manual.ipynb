{
 "cells": [
  {
   "cell_type": "markdown",
   "metadata": {},
   "source": [
    "# Cadenas"
   ]
  },
  {
   "cell_type": "markdown",
   "metadata": {},
   "source": [
    "pues las cadenas de caracteres conocidas como el tipo string , se utiliza mucho y vaz a manipularlos mucho asi que seria bueno que practicaras con elllos\n",
    "\n",
    "\n",
    "en python las string se encierran entre comillas simples,dobles y triples\n",
    "\n",
    "ejemplo = 'ejemplo con comillas dobles'\n",
    "\n",
    "digamos que ocupamos que la cadena contenga alguna comilla , lo que tenemos que hacer es encerrar el string con una comilla diferente ejemplo\n",
    "\n",
    "\n",
    "ejemplo =\" aqui no puedes usar otra vez comillas \"dobles\" \"\n",
    "ejemplo_correcto = 'esta seria la forma adecuada si no tendrias un \"error\" '\n",
    "\n",
    "y podemos usar hacerlo con las comillas invertidas ejemplo\n",
    "\n",
    "ejemplo_comillas_simples = \" we don't repeat the same quatation marks\"\n",
    "\n",
    "digamos que queremos usar las dos comillas en el mismo texto que hariamos\n",
    "\n",
    "pues podemos optar por usar comillas triples o separar el texto ejemplo\n",
    "\n",
    "comilla_triple= \"\"\" \"aqui\" uso ambas comilla's sin problemas\"\"\"\n",
    "separar texto= \" ' aqui uso esta comillas sin problema \" + ' \" aca uso la otra\" '\n",
    "\n"
   ]
  },
  {
   "cell_type": "markdown",
   "metadata": {},
   "source": [
    "# Texto multilinea"
   ]
  },
  {
   "cell_type": "markdown",
   "metadata": {},
   "source": [
    "podemos introudcir saltos de lineas con tecleando esto  \\n  o usando comillas triples"
   ]
  },
  {
   "cell_type": "code",
   "execution_count": 2,
   "metadata": {},
   "outputs": [
    {
     "name": "stdout",
     "output_type": "stream",
     "text": [
      "texto \n",
      " multilinea\n",
      "texto\n",
      " multilinea\n"
     ]
    }
   ],
   "source": [
    "print(\"texto \\n multilinea\")\n",
    "print(\"\"\"texto\n",
    " multilinea\"\"\")"
   ]
  },
  {
   "cell_type": "markdown",
   "metadata": {},
   "source": [
    "# Metodos String"
   ]
  },
  {
   "cell_type": "markdown",
   "metadata": {},
   "source": [
    "tenemos el metodo title que da un formato de tipo title"
   ]
  },
  {
   "cell_type": "code",
   "execution_count": 4,
   "metadata": {},
   "outputs": [
    {
     "name": "stdout",
     "output_type": "stream",
     "text": [
      "Tacos Asd\n"
     ]
    }
   ],
   "source": [
    "print(\"tacos asd\".title())"
   ]
  },
  {
   "cell_type": "markdown",
   "metadata": {},
   "source": [
    "## metodo split"
   ]
  },
  {
   "cell_type": "markdown",
   "metadata": {},
   "source": [
    "separa una cadena por el string que le mandemos como parametro y nos regresa un arreglo de strings"
   ]
  },
  {
   "cell_type": "code",
   "execution_count": 6,
   "metadata": {},
   "outputs": [
    {
     "name": "stdout",
     "output_type": "stream",
     "text": [
      "['split', 'separa', 'sin', 'argumentos']\n",
      "['split', 'separa', 'con', 'argumento']\n"
     ]
    }
   ],
   "source": [
    "print(\"split separa sin argumentos\".split())\n",
    "\n",
    "separador =\"-\"\n",
    "print(\"split-separa-con-argumento\".split(separador))"
   ]
  },
  {
   "cell_type": "markdown",
   "metadata": {},
   "source": [
    " como puedes observar si no le damos ningun argumento el separador por default seran los espacios"
   ]
  },
  {
   "cell_type": "markdown",
   "metadata": {},
   "source": [
    "# Buscar una subcadena"
   ]
  },
  {
   "cell_type": "markdown",
   "metadata": {},
   "source": [
    "tenemos estas formas de saber si existe una subcadena dentro de un string "
   ]
  },
  {
   "cell_type": "code",
   "execution_count": 9,
   "metadata": {},
   "outputs": [
    {
     "name": "stdout",
     "output_type": "stream",
     "text": [
      "True\n",
      "5\n",
      "1\n"
     ]
    }
   ],
   "source": [
    "texto = 'esta cadena tiene palabras'\n",
    "subcadena = 'cadena'\n",
    "print( subcadena in texto)\n",
    "print(texto.find(subcadena))\n",
    "print(texto.count(subcadena))"
   ]
  },
  {
   "cell_type": "markdown",
   "metadata": {},
   "source": [
    " la primera forma que usa la palabra reservada in nos regresara un booleno\n",
    "\n",
    " en cambio la segunda forma nos regresa -1  en caso de que no se encuentre y en caso contrario nos regresa el inicio de la subcadena\n",
    "\n",
    " y en la tercera contamos la cantidad de veces que la subcadena se encuentra dentro de un string"
   ]
  },
  {
   "cell_type": "markdown",
   "metadata": {},
   "source": [
    "tambien si lo deseamos podemos convertir un string en puras palabras mayusculas o minusculas , con el metodo lower para convertir todo a minusculas y upper para convertirlas a mayusculas"
   ]
  },
  {
   "cell_type": "code",
   "execution_count": 11,
   "metadata": {},
   "outputs": [
    {
     "name": "stdout",
     "output_type": "stream",
     "text": [
      "ESTA CADENA TIENE SOLO MINUSCULAS\n",
      "segundo texto con solo mayusculas\n"
     ]
    }
   ],
   "source": [
    "texto = 'esta cadena tiene solo minusculas'\n",
    "texto2 = 'SEGUNDO TEXTO CON SOLO MAYUSCULAS'\n",
    "\n",
    "print(texto.upper())\n",
    "print(texto2.lower())"
   ]
  },
  {
   "cell_type": "markdown",
   "metadata": {},
   "source": [
    "tenemos estos metodos relacionados con el primer y utlimo caracter"
   ]
  },
  {
   "cell_type": "code",
   "execution_count": 14,
   "metadata": {},
   "outputs": [
    {
     "name": "stdout",
     "output_type": "stream",
     "text": [
      "False\n",
      "True\n"
     ]
    }
   ],
   "source": [
    "cadena = 'esta caden tiene'\n",
    "\n",
    "\n",
    "print(cadena.startswith('es'))\n",
    "print(cadena.endswith('e'))"
   ]
  },
  {
   "cell_type": "markdown",
   "metadata": {},
   "source": [
    "tambien somos capaces de remplazar subcadenas"
   ]
  },
  {
   "cell_type": "code",
   "execution_count": 20,
   "metadata": {},
   "outputs": [
    {
     "name": "stdout",
     "output_type": "stream",
     "text": [
      "quiero remplazar placeholder\n",
      "quiero remplazar hamburguesa\n",
      "quiero remplazar taco\n"
     ]
    }
   ],
   "source": [
    "c1 = 'taco'\n",
    "c2 = 'hamburguesa'\n",
    "remplazo = 'placeholder'\n",
    "cadena=\"quiero remplazar \" + remplazo\n",
    "print(cadena)\n",
    "print(cadena.replace(remplazo,c2))\n",
    "print(cadena.replace(remplazo,c1))"
   ]
  }
 ],
 "metadata": {
  "interpreter": {
   "hash": "c04754951ec0f0944b055b17fe79fc023504a867b6202eeee91e413f7480d143"
  },
  "kernelspec": {
   "display_name": "Python 3.10.2 64-bit (windows store)",
   "language": "python",
   "name": "python3"
  },
  "language_info": {
   "codemirror_mode": {
    "name": "ipython",
    "version": 3
   },
   "file_extension": ".py",
   "mimetype": "text/x-python",
   "name": "python",
   "nbconvert_exporter": "python",
   "pygments_lexer": "ipython3",
   "version": "3.10.2"
  },
  "orig_nbformat": 4
 },
 "nbformat": 4,
 "nbformat_minor": 2
}
