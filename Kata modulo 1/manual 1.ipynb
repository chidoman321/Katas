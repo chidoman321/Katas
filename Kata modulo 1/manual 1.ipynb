{
 "cells": [
  {
   "cell_type": "markdown",
   "metadata": {},
   "source": [
    "# Manual modulo 1"
   ]
  },
  {
   "cell_type": "markdown",
   "metadata": {},
   "source": [
    "nuestro codigo puede ser ejecutable ,solo necesitamos guardar el archivo con nuestro codigo con la extension.py  ejemplo.py"
   ]
  },
  {
   "cell_type": "markdown",
   "metadata": {},
   "source": [
    "para ejecutar el codigo debemos llamar a python o python3 y pasarle como arguemento el nombre del archivo donde tenemos el codigo \n",
    "\n",
    "ejemplo:\n",
    "\n",
    "\tpython3 ejemplo.py\n",
    "\n",
    "o tambien \n",
    "\n",
    "\tpython ejemplo.py"
   ]
  },
  {
   "cell_type": "markdown",
   "metadata": {},
   "source": [
    "## Variables\n"
   ]
  },
  {
   "cell_type": "markdown",
   "metadata": {},
   "source": [
    "en programación necesitamos el concepto de variable en si es un almacen dentro de nuestra memoria que somos capaces de manipular , con eso de manipular me refiero al hecho de que somos capaces de guardar en ella los valores que queramos y usar esos valores donde queramos\n",
    "\n",
    "\n",
    "las variables se organizan en tipos  nosotros no ocupamos preocuparnos de definir el tipo de dato de una variable en python\n",
    "\n",
    "### Tipos numericos\n",
    "\n",
    "a su vez estos se dividen en mas tipos como puede ser enteros y decimales etc\n",
    "\n",
    "### Tipos de texto \n",
    "\n",
    "son los que contienen caracteres alfanumericos , los puedes identificar si vez que se encierran entre comillas simples o dobles\n",
    "\n",
    "ejemplo\n",
    "\n",
    "tacos = 'soy un taco'\n"
   ]
  },
  {
   "cell_type": "markdown",
   "metadata": {},
   "source": [
    "## Que tipo es esta variable"
   ]
  },
  {
   "cell_type": "markdown",
   "metadata": {},
   "source": [
    "para saber de que tipo una variable es podemos usar una funcion llamada type , solo ocupamos poner el nombre de la funcion despues parentesis ( mi_variable  ) y al final un parentesis de cierre"
   ]
  },
  {
   "cell_type": "code",
   "execution_count": 10,
   "metadata": {},
   "outputs": [
    {
     "data": {
      "text/plain": [
       "str"
      ]
     },
     "execution_count": 10,
     "metadata": {},
     "output_type": "execute_result"
    }
   ],
   "source": [
    "tacos = 'soy un taco'\n",
    "type(tacos)\n"
   ]
  },
  {
   "cell_type": "markdown",
   "metadata": {},
   "source": [
    "como pueden apreciar nos regresa str , que es la contraccion de string que en espalo es traducido a cadena de caracteres"
   ]
  },
  {
   "cell_type": "markdown",
   "metadata": {},
   "source": [
    "podemos manipular los tipos numericos como si fueran numeros de la vida real\n",
    "\n",
    "\n",
    "podemos sumarlos ,restarlos , dividirlos y multiplicarlos todos estos siguen las reglas de la jerarquia de operaciones\n",
    "\n",
    "un_taco_vale = 2\n",
    "\n",
    "vamos a aumentar el valor de mi taco\n",
    "\n",
    "un_taco_vale = 2 + 2\n",
    "\n",
    "vamos a reducir el valor de mi taco\n",
    "\n",
    "un_taco_vale = 4 - 2\n",
    "\n",
    "vamos a dividir el valor de mi taco\n",
    "\n",
    "un_taco_vale = 4 / 2 \n",
    "\n",
    "vamos a multiplicar el valor de mi taco\n",
    "\n",
    "un_taco_vale = 2 * 2\n",
    "\n",
    "\n",
    "digamos que tienes una variable de tipo entera  la puedes usar en operaciones de este tipo\n",
    "ejemplo\n",
    "\n",
    "un_taco_vale = 2 \n",
    "\n",
    "un_taco_vale = un_taco_vale / 2\n",
    "\n",
    "\n",
    "## contracciones\n",
    "\n",
    "bueno yo les llamo contracciones la verdad no se cual sea su nombre , asi  mismo si vas a hacer alguna de esas operaciones con la variable  puedes usar estas contracciones\n",
    "\n",
    "\n",
    "un_taco_vale = 2\n",
    "\n",
    "un_taco_vale += 2  esquivalente a                 un_taco_vale = un_taco_vale + 2\n",
    "\n",
    "un_taco_vale -= 2  esquivalente a                 un_taco_vale = un_taco_vale - 2\n",
    "\n",
    "un_taco_vale /= 2  esquivalente a                 un_taco_vale = un_taco_vale / 2\n",
    "\n",
    "un_taco_vale *= 2  esquivalente a                 un_taco_vale = un_taco_vale * 2\n"
   ]
  },
  {
   "cell_type": "markdown",
   "metadata": {},
   "source": [
    "# Tipo Fecha"
   ]
  },
  {
   "cell_type": "code",
   "execution_count": 11,
   "metadata": {},
   "outputs": [
    {
     "name": "stdout",
     "output_type": "stream",
     "text": [
      "2022-02-07\n"
     ]
    }
   ],
   "source": [
    "from datetime import date\n",
    "\n",
    "print(date.today())"
   ]
  },
  {
   "cell_type": "markdown",
   "metadata": {},
   "source": [
    "# Conversión de tipos"
   ]
  },
  {
   "cell_type": "markdown",
   "metadata": {},
   "source": [
    "puede que al querer imprimir algo o concatenar algo a una variable de tipo string , te aparezca el siguiente mensaje de error \n",
    "\n",
    "TypeError: can only concatenate str (not \"datetime.date\") to str\n",
    "\n",
    "por suerte tenemos una funcion que te regresa un string , una vez que le das una variable como argumento "
   ]
  },
  {
   "cell_type": "code",
   "execution_count": 12,
   "metadata": {},
   "outputs": [
    {
     "name": "stdout",
     "output_type": "stream",
     "text": [
      "Today date is : 2022-02-07\n"
     ]
    }
   ],
   "source": [
    "print('Today date is : ' + str(date.today()))"
   ]
  },
  {
   "cell_type": "markdown",
   "metadata": {},
   "source": [
    "# Entrada de usuario"
   ]
  },
  {
   "cell_type": "markdown",
   "metadata": {},
   "source": [
    "podemos leer los valores que el usuario teclea con la funcion input  ejemplo"
   ]
  },
  {
   "cell_type": "code",
   "execution_count": 13,
   "metadata": {},
   "outputs": [
    {
     "name": "stdout",
     "output_type": "stream",
     "text": [
      "Bienvenido ingresa tu nombre porfas\n",
      "Hola taco\n"
     ]
    }
   ],
   "source": [
    "print('Bienvenido ingresa tu nombre porfas')\n",
    "name = input(\"Nombre: \")\n",
    "print('Hola '+ name )"
   ]
  },
  {
   "cell_type": "markdown",
   "metadata": {},
   "source": [
    "como puedes observar concatenamos name con el string hola , por lo tanto name obtiene el tipo de dato string o cadena de caracteres , digamos que quisieramos un numero pues ocupamos convertirlo en este caso lo convertire a entero , vamos a usar la funcion type usada anteriormente para poder observar claramente de que tipo de dato es la variable"
   ]
  },
  {
   "cell_type": "code",
   "execution_count": 16,
   "metadata": {},
   "outputs": [
    {
     "name": "stdout",
     "output_type": "stream",
     "text": [
      "Buenas que numero vas a convertir \n",
      "El numero que ingresaste fue :5\n",
      "y se convertio a :<class 'int'>\n"
     ]
    }
   ],
   "source": [
    "print('Buenas que numero vas a convertir ')\n",
    "numero = input('Numero: ')\n",
    "print('El numero que ingresaste fue :' + numero)\n",
    "numero = int(numero)\n",
    "print('y se convertio a :' + str(type(numero)))"
   ]
  }
 ],
 "metadata": {
  "interpreter": {
   "hash": "c04754951ec0f0944b055b17fe79fc023504a867b6202eeee91e413f7480d143"
  },
  "kernelspec": {
   "display_name": "Python 3.10.2 64-bit (windows store)",
   "language": "python",
   "name": "python3"
  },
  "language_info": {
   "codemirror_mode": {
    "name": "ipython",
    "version": 3
   },
   "file_extension": ".py",
   "mimetype": "text/x-python",
   "name": "python",
   "nbconvert_exporter": "python",
   "pygments_lexer": "ipython3",
   "version": "3.10.2"
  },
  "orig_nbformat": 4
 },
 "nbformat": 4,
 "nbformat_minor": 2
}
