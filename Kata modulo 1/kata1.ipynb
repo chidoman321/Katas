{
 "cells": [
  {
   "cell_type": "markdown",
   "metadata": {},
   "source": [
    "# Primer programa"
   ]
  },
  {
   "cell_type": "code",
   "execution_count": 1,
   "metadata": {},
   "outputs": [
    {
     "name": "stdout",
     "output_type": "stream",
     "text": [
      "Today date is:  2022-02-07\n"
     ]
    }
   ],
   "source": [
    "from datetime import date\n",
    "\n",
    "print(\"Today date is: \", date.today())"
   ]
  },
  {
   "cell_type": "markdown",
   "metadata": {},
   "source": [
    "# Construir un convertidor de unidades"
   ]
  },
  {
   "cell_type": "code",
   "execution_count": 2,
   "metadata": {},
   "outputs": [
    {
     "name": "stdout",
     "output_type": "stream",
     "text": [
      "Cuantos parsecs quieres convertir a años luz ?\n",
      "5.2 parsec(s) son 16.960112 años luz \n"
     ]
    }
   ],
   "source": [
    "const_parsec = 3.26156\n",
    "\n",
    "print(\"Cuantos parsecs quieres convertir a años luz ?\")\n",
    "num_parsecs = float(input(\"Parsecs: \"))\n",
    "light_years = num_parsecs * const_parsec\n",
    "\n",
    "print(str(num_parsecs) +\" parsec(s) son \" + str(light_years) + \" años luz \")"
   ]
  }
 ],
 "metadata": {
  "interpreter": {
   "hash": "c04754951ec0f0944b055b17fe79fc023504a867b6202eeee91e413f7480d143"
  },
  "kernelspec": {
   "display_name": "Python 3.10.2 64-bit (windows store)",
   "language": "python",
   "name": "python3"
  },
  "language_info": {
   "codemirror_mode": {
    "name": "ipython",
    "version": 3
   },
   "file_extension": ".py",
   "mimetype": "text/x-python",
   "name": "python",
   "nbconvert_exporter": "python",
   "pygments_lexer": "ipython3",
   "version": "3.10.2"
  },
  "orig_nbformat": 4
 },
 "nbformat": 4,
 "nbformat_minor": 2
}
