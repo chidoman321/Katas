{
 "cells": [
  {
   "cell_type": "markdown",
   "metadata": {},
   "source": [
    "# Ejercicio 1"
   ]
  },
  {
   "cell_type": "markdown",
   "metadata": {},
   "source": [
    "Exploremos cómo podemos crear un programa que pueda calcular la distancia entre dos planetas. Comenzaremos usando dos distancias de planetas: Tierra (149.597.870 km) y Júpiter (778.547.200 km)."
   ]
  },
  {
   "cell_type": "code",
   "execution_count": 4,
   "metadata": {},
   "outputs": [
    {
     "name": "stdout",
     "output_type": "stream",
     "text": [
      "628949330 kilometros\n",
      "390577533.93 millas\n"
     ]
    }
   ],
   "source": [
    "distancia1=149597870\n",
    "distancia2=778547200\n",
    "distancia_entre_planetas = abs(distancia2 -distancia1)\n",
    "unkilometro_en_millas = 0.621\n",
    "distancia_entre_planetas_millas =  distancia_entre_planetas * unkilometro_en_millas\n",
    "print(str(distancia_entre_planetas) + \" kilometros\")\n",
    "print(str(distancia_entre_planetas_millas) + \" millas\")"
   ]
  },
  {
   "cell_type": "markdown",
   "metadata": {},
   "source": [
    "Crear una aplicación para trabajar con números y entrada de usuario\n",
    "Con frecuencia, deberás convertir los valores de cadena en números para realizar correctamente diferentes operaciones o determinar el valor absoluto de un número.\n",
    "\n",
    "Para crear nuestra aplicación, queremos leer la distancia del sol para dos planetas, y luego mostrar la distancia entre los planetas. Haremos esto usando input para leer los valores, int para convertir a entero y luego abs para convertir el resultado en su valor absoluto."
   ]
  },
  {
   "cell_type": "code",
   "execution_count": 5,
   "metadata": {},
   "outputs": [
    {
     "name": "stdout",
     "output_type": "stream",
     "text": [
      "180142100000 kilometros\n",
      "111868244100.0 millas\n"
     ]
    }
   ],
   "source": [
    "planeta_distancia = input(\"intorudce la distnacia del primer planeta en km\")\n",
    "planeta_distancia_1 = input(\"intorudce la distnacia del segundo planeta en km\")\n",
    "\n",
    "planeta_distancia = int(planeta_distancia)\n",
    "planeta_distancia_1 = int(planeta_distancia_1)\n",
    "\n",
    "distancia_entre_planetas = abs(planeta_distancia -planeta_distancia_1)\n",
    "unkilometro_en_millas = 0.621\n",
    "distancia_entre_planetas_millas =  distancia_entre_planetas * unkilometro_en_millas\n",
    "print(str(distancia_entre_planetas) + \" kilometros\")\n",
    "print(str(distancia_entre_planetas_millas) + \" millas\")"
   ]
  }
 ],
 "metadata": {
  "interpreter": {
   "hash": "c04754951ec0f0944b055b17fe79fc023504a867b6202eeee91e413f7480d143"
  },
  "kernelspec": {
   "display_name": "Python 3.10.2 64-bit (windows store)",
   "language": "python",
   "name": "python3"
  },
  "language_info": {
   "codemirror_mode": {
    "name": "ipython",
    "version": 3
   },
   "file_extension": ".py",
   "mimetype": "text/x-python",
   "name": "python",
   "nbconvert_exporter": "python",
   "pygments_lexer": "ipython3",
   "version": "3.10.2"
  },
  "orig_nbformat": 4
 },
 "nbformat": 4,
 "nbformat_minor": 2
}
