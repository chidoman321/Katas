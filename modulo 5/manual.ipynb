{
 "cells": [
  {
   "cell_type": "markdown",
   "metadata": {},
   "source": [
    "# Operadores aritmeticos"
   ]
  },
  {
   "cell_type": "markdown",
   "metadata": {},
   "source": [
    "tenemos los operadores \n",
    "\n",
    "sumar   \t+\n",
    "restar  \t-\n",
    "dividir \t/\n",
    "multiplicar \t*\n",
    "division entera //\n",
    "modulo o residuo %\n",
    "\n",
    "\n",
    "si deseamos convertir un string a numero podemos usar la funcion int() ,float() \n",
    "\n",
    "tambien podemos encontrar el valor absoluto con la funcion abs()"
   ]
  },
  {
   "cell_type": "markdown",
   "metadata": {},
   "source": [
    "## Redondear"
   ]
  },
  {
   "cell_type": "markdown",
   "metadata": {},
   "source": [
    "esta funcion redondea al entero mas cercano ejemplo"
   ]
  },
  {
   "cell_type": "code",
   "execution_count": 1,
   "metadata": {},
   "outputs": [
    {
     "name": "stdout",
     "output_type": "stream",
     "text": [
      "5\n",
      "6\n"
     ]
    }
   ],
   "source": [
    "dato = 5.2\n",
    "dato_2 = 5.5\n",
    "print(round(dato))\n",
    "print(round(dato_2))"
   ]
  },
  {
   "cell_type": "markdown",
   "metadata": {},
   "source": [
    "# Biblioteca Math"
   ]
  },
  {
   "cell_type": "markdown",
   "metadata": {},
   "source": [
    "contiene muchas funciones de tulidad cuando operamos con numeros , como floor o ceil\n",
    "\n",
    "ceil redondea hacia arriba y\n",
    "floor redondead hacia abajo"
   ]
  }
 ],
 "metadata": {
  "interpreter": {
   "hash": "c04754951ec0f0944b055b17fe79fc023504a867b6202eeee91e413f7480d143"
  },
  "kernelspec": {
   "display_name": "Python 3.10.2 64-bit (windows store)",
   "language": "python",
   "name": "python3"
  },
  "language_info": {
   "codemirror_mode": {
    "name": "ipython",
    "version": 3
   },
   "file_extension": ".py",
   "mimetype": "text/x-python",
   "name": "python",
   "nbconvert_exporter": "python",
   "pygments_lexer": "ipython3",
   "version": "3.10.2"
  },
  "orig_nbformat": 4
 },
 "nbformat": 4,
 "nbformat_minor": 2
}
